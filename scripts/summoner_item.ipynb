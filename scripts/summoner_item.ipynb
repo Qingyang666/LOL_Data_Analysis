{
 "cells": [
  {
   "cell_type": "code",
   "execution_count": 16,
   "id": "accomplished-rings",
   "metadata": {},
   "outputs": [],
   "source": [
    "import pandas as pd\n",
    "import urllib.request, json "
   ]
  },
  {
   "cell_type": "code",
   "execution_count": 17,
   "id": "amended-summer",
   "metadata": {},
   "outputs": [],
   "source": [
    "with urllib.request.urlopen(\"http://ddragon.leagueoflegends.com/cdn/6.24.1/data/en_US/summoner.json\") as url:\n",
    "    sums = json.loads(url.read().decode())"
   ]
  },
  {
   "cell_type": "code",
   "execution_count": 18,
   "id": "behavioral-zambia",
   "metadata": {},
   "outputs": [],
   "source": [
    "with urllib.request.urlopen(\"http://ddragon.leagueoflegends.com/cdn/6.24.1/data/en_US/item.json\") as url:\n",
    "    items = json.loads(url.read().decode())"
   ]
  },
  {
   "cell_type": "code",
   "execution_count": 19,
   "id": "determined-niger",
   "metadata": {},
   "outputs": [],
   "source": [
    "sumsdata = sums['data']\n",
    "ls = []\n",
    "for key in sumsdata:\n",
    "    ls.append([key,sumsdata[key]['key']])\n",
    "Sumsref = pd.DataFrame(ls,columns=['Spells','keys'])\n",
    "Sumsref.to_csv('Desktop/summonerSpell.csv', index=False)"
   ]
  },
  {
   "cell_type": "code",
   "execution_count": 20,
   "id": "voluntary-phone",
   "metadata": {},
   "outputs": [],
   "source": [
    "itemsdata = items['data']\n",
    "ls = []\n",
    "for item in itemsdata:\n",
    "    mp = itemsdata[item]['maps']\n",
    "    maps = []\n",
    "    for key, value in mp.items():\n",
    "        if value == True:\n",
    "            maps.append(key)\n",
    "    ls.append([item,itemsdata[item]['name'],maps,itemsdata[item]['tags'],itemsdata[item]['gold']['total']])\n",
    "Itemsref = pd.DataFrame(ls,columns=['keys','names','maps','tags','values'])\n",
    "Itemsref.to_csv('Desktop/itemsref.csv', index=False)"
   ]
  },
  {
   "cell_type": "code",
   "execution_count": null,
   "id": "extensive-freeze",
   "metadata": {},
   "outputs": [],
   "source": []
  }
 ],
 "metadata": {
  "kernelspec": {
   "display_name": "Python 3",
   "language": "python",
   "name": "python3"
  },
  "language_info": {
   "codemirror_mode": {
    "name": "ipython",
    "version": 3
   },
   "file_extension": ".py",
   "mimetype": "text/x-python",
   "name": "python",
   "nbconvert_exporter": "python",
   "pygments_lexer": "ipython3",
   "version": "3.8.5"
  }
 },
 "nbformat": 4,
 "nbformat_minor": 5
}
